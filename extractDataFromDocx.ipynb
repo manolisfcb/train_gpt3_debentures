{
 "cells": [
  {
   "cell_type": "code",
   "execution_count": 21,
   "metadata": {},
   "outputs": [],
   "source": [
    "import sys\n",
    "import os\n",
    "import pandas as pd\n",
    "import docx\n",
    "import unicodedata"
   ]
  },
  {
   "cell_type": "code",
   "execution_count": 22,
   "metadata": {},
   "outputs": [],
   "source": [
    "# definições\n",
    "\n",
    "# path do diretório base\n",
    "base_path = os.path.abspath(os.path.join(os.path.abspath(''), os.pardir))\n",
    "\n",
    "# path do diretório de dados\n",
    "source_data_path = os.path.join(base_path,'train_gpt3_debentures', 'data')"
   ]
  },
  {
   "cell_type": "code",
   "execution_count": 23,
   "metadata": {},
   "outputs": [],
   "source": [
    "\n",
    "def get_text_name(folder):\n",
    "    '''\n",
    "        Recebe o caminho de um diretório e retorna uma lista com os nomes dos arquivos de extensão .docx ordenados\n",
    "    '''\n",
    "\n",
    "    only_docx = [f for f in os.listdir(folder) if f.lower().endswith('.docx')]\n",
    "    only_docx.sort()\n",
    "    return only_docx\n",
    "\n",
    "def get_text_dir(folder):\n",
    "    '''\n",
    "        Recebe o caminho de um diretório e retorna uma lista com os caminhos dos arquivos de extensão .docx ordenados\n",
    "    '''\n",
    "\n",
    "    only_docx_path = [os.path.join(folder, f) for f in os.listdir(folder) if f.lower().endswith('.docx')]\n",
    "    only_docx_path.sort()\n",
    "    return only_docx_path"
   ]
  },
  {
   "cell_type": "code",
   "execution_count": 24,
   "metadata": {},
   "outputs": [],
   "source": [
    "# lista de arquivos .docx\n",
    "file_lst = get_text_dir(source_data_path)"
   ]
  },
  {
   "cell_type": "code",
   "execution_count": 32,
   "metadata": {},
   "outputs": [],
   "source": [
    "def para_text_extract(files):\n",
    "    '''\n",
    "        Extrai docs, parágrafos docx e textos separados em parágrafos docx e '\\n'\n",
    "    '''\n",
    "\n",
    "    docs = [docx.Document(doc) for doc in files]\n",
    "    texts = [doc.paragraphs for doc in docs]\n",
    "    textos = [getText(doc) for doc in files]\n",
    "\n",
    "\n",
    "\n",
    "    return textos\n",
    "\n",
    "\n",
    "def getText(filename):\n",
    "    doc = docx.Document(filename)\n",
    "    fullText = []\n",
    "    for para in doc.paragraphs:\n",
    "        fullText.append(para.text)\n",
    "    return '\\n'.join(fullText)"
   ]
  },
  {
   "cell_type": "code",
   "execution_count": 41,
   "metadata": {},
   "outputs": [],
   "source": [
    "para_texts = para_text_extract(file_lst)"
   ]
  },
  {
   "cell_type": "code",
   "execution_count": 43,
   "metadata": {},
   "outputs": [],
   "source": [
    "df = pd.DataFrame({'nome':file_lst,'texto': para_texts})"
   ]
  },
  {
   "cell_type": "code",
   "execution_count": 1,
   "metadata": {},
   "outputs": [],
   "source": [
    "import os\n",
    "import pypandoc\n",
    "def convert_docx2text(src_path, dst_path):\n",
    "    files = os.listdir(src_path)\n",
    "    files = [f for f in files if f.endswith('.docx')]\n",
    "    for file in files:\n",
    "        try:\n",
    "            pypandoc.convert_file(os.path.join(src_path, file), 'plain', outputfile=os.path.join(dst_path, file[:-5] + '.txt'))\n",
    "        except Exception as e:\n",
    "            print(e)"
   ]
  },
  {
   "cell_type": "code",
   "execution_count": 2,
   "metadata": {},
   "outputs": [
    {
     "name": "stdout",
     "output_type": "stream",
     "text": [
      "No pandoc was found: either install pandoc and add it\n",
      "to your PATH or or call pypandoc.download_pandoc(...) or\n",
      "install pypandoc wheels with included pandoc.\n",
      "No pandoc was found: either install pandoc and add it\n",
      "to your PATH or or call pypandoc.download_pandoc(...) or\n",
      "install pypandoc wheels with included pandoc.\n",
      "list index out of range\n",
      "No pandoc was found: either install pandoc and add it\n",
      "to your PATH or or call pypandoc.download_pandoc(...) or\n",
      "install pypandoc wheels with included pandoc.\n",
      "No pandoc was found: either install pandoc and add it\n",
      "to your PATH or or call pypandoc.download_pandoc(...) or\n",
      "install pypandoc wheels with included pandoc.\n",
      "No pandoc was found: either install pandoc and add it\n",
      "to your PATH or or call pypandoc.download_pandoc(...) or\n",
      "install pypandoc wheels with included pandoc.\n",
      "list index out of range\n",
      "No pandoc was found: either install pandoc and add it\n",
      "to your PATH or or call pypandoc.download_pandoc(...) or\n",
      "install pypandoc wheels with included pandoc.\n",
      "No pandoc was found: either install pandoc and add it\n",
      "to your PATH or or call pypandoc.download_pandoc(...) or\n",
      "install pypandoc wheels with included pandoc.\n",
      "No pandoc was found: either install pandoc and add it\n",
      "to your PATH or or call pypandoc.download_pandoc(...) or\n",
      "install pypandoc wheels with included pandoc.\n",
      "No pandoc was found: either install pandoc and add it\n",
      "to your PATH or or call pypandoc.download_pandoc(...) or\n",
      "install pypandoc wheels with included pandoc.\n",
      "No pandoc was found: either install pandoc and add it\n",
      "to your PATH or or call pypandoc.download_pandoc(...) or\n",
      "install pypandoc wheels with included pandoc.\n",
      "No pandoc was found: either install pandoc and add it\n",
      "to your PATH or or call pypandoc.download_pandoc(...) or\n",
      "install pypandoc wheels with included pandoc.\n",
      "list index out of range\n",
      "No pandoc was found: either install pandoc and add it\n",
      "to your PATH or or call pypandoc.download_pandoc(...) or\n",
      "install pypandoc wheels with included pandoc.\n",
      "No pandoc was found: either install pandoc and add it\n",
      "to your PATH or or call pypandoc.download_pandoc(...) or\n",
      "install pypandoc wheels with included pandoc.\n",
      "No pandoc was found: either install pandoc and add it\n",
      "to your PATH or or call pypandoc.download_pandoc(...) or\n",
      "install pypandoc wheels with included pandoc.\n",
      "No pandoc was found: either install pandoc and add it\n",
      "to your PATH or or call pypandoc.download_pandoc(...) or\n",
      "install pypandoc wheels with included pandoc.\n",
      "No pandoc was found: either install pandoc and add it\n",
      "to your PATH or or call pypandoc.download_pandoc(...) or\n",
      "install pypandoc wheels with included pandoc.\n",
      "No pandoc was found: either install pandoc and add it\n",
      "to your PATH or or call pypandoc.download_pandoc(...) or\n",
      "install pypandoc wheels with included pandoc.\n",
      "No pandoc was found: either install pandoc and add it\n",
      "to your PATH or or call pypandoc.download_pandoc(...) or\n",
      "install pypandoc wheels with included pandoc.\n",
      "No pandoc was found: either install pandoc and add it\n",
      "to your PATH or or call pypandoc.download_pandoc(...) or\n",
      "install pypandoc wheels with included pandoc.\n",
      "No pandoc was found: either install pandoc and add it\n",
      "to your PATH or or call pypandoc.download_pandoc(...) or\n",
      "install pypandoc wheels with included pandoc.\n",
      "No pandoc was found: either install pandoc and add it\n",
      "to your PATH or or call pypandoc.download_pandoc(...) or\n",
      "install pypandoc wheels with included pandoc.\n",
      "No pandoc was found: either install pandoc and add it\n",
      "to your PATH or or call pypandoc.download_pandoc(...) or\n",
      "install pypandoc wheels with included pandoc.\n",
      "No pandoc was found: either install pandoc and add it\n",
      "to your PATH or or call pypandoc.download_pandoc(...) or\n",
      "install pypandoc wheels with included pandoc.\n",
      "No pandoc was found: either install pandoc and add it\n",
      "to your PATH or or call pypandoc.download_pandoc(...) or\n",
      "install pypandoc wheels with included pandoc.\n",
      "No pandoc was found: either install pandoc and add it\n",
      "to your PATH or or call pypandoc.download_pandoc(...) or\n",
      "install pypandoc wheels with included pandoc.\n",
      "list index out of range\n",
      "No pandoc was found: either install pandoc and add it\n",
      "to your PATH or or call pypandoc.download_pandoc(...) or\n",
      "install pypandoc wheels with included pandoc.\n",
      "No pandoc was found: either install pandoc and add it\n",
      "to your PATH or or call pypandoc.download_pandoc(...) or\n",
      "install pypandoc wheels with included pandoc.\n",
      "No pandoc was found: either install pandoc and add it\n",
      "to your PATH or or call pypandoc.download_pandoc(...) or\n",
      "install pypandoc wheels with included pandoc.\n",
      "list index out of range\n",
      "No pandoc was found: either install pandoc and add it\n",
      "to your PATH or or call pypandoc.download_pandoc(...) or\n",
      "install pypandoc wheels with included pandoc.\n",
      "No pandoc was found: either install pandoc and add it\n",
      "to your PATH or or call pypandoc.download_pandoc(...) or\n",
      "install pypandoc wheels with included pandoc.\n",
      "No pandoc was found: either install pandoc and add it\n",
      "to your PATH or or call pypandoc.download_pandoc(...) or\n",
      "install pypandoc wheels with included pandoc.\n",
      "list index out of range\n",
      "No pandoc was found: either install pandoc and add it\n",
      "to your PATH or or call pypandoc.download_pandoc(...) or\n",
      "install pypandoc wheels with included pandoc.\n"
     ]
    }
   ],
   "source": [
    "convert_docx2text('data/', 'data_converted/')"
   ]
  },
  {
   "cell_type": "code",
   "execution_count": null,
   "metadata": {},
   "outputs": [],
   "source": []
  }
 ],
 "metadata": {
  "kernelspec": {
   "display_name": "venv",
   "language": "python",
   "name": "python3"
  },
  "language_info": {
   "codemirror_mode": {
    "name": "ipython",
    "version": 3
   },
   "file_extension": ".py",
   "mimetype": "text/x-python",
   "name": "python",
   "nbconvert_exporter": "python",
   "pygments_lexer": "ipython3",
   "version": "3.8.10"
  },
  "orig_nbformat": 4
 },
 "nbformat": 4,
 "nbformat_minor": 2
}
